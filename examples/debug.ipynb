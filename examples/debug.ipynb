{
 "cells": [
  {
   "cell_type": "code",
   "execution_count": 1,
   "metadata": {},
   "outputs": [],
   "source": [
    "from sklearn.datasets import make_moons\n",
    "from sklearn.model_selection import train_test_split\n",
    "from matplotlib import pyplot as plt\n",
    "from neural_flow import Flow, train\n",
    "from neural_flow.bijectors import (\n",
    "    rolling_spline_coupling,\n",
    ")\n",
    "from neural_flow import distributions as dist"
   ]
  },
  {
   "cell_type": "code",
   "execution_count": 2,
   "metadata": {},
   "outputs": [],
   "source": [
    "X, C = make_moons(10_000, noise=0.1, random_state=1)\n",
    "X_train, X_test, C_train, C_test = train_test_split(X, C, random_state=1)"
   ]
  },
  {
   "cell_type": "code",
   "execution_count": 6,
   "metadata": {},
   "outputs": [
    {
     "data": {
      "application/vnd.jupyter.widget-view+json": {
       "model_id": "a169f35cc83f487d81488d078d26fafc",
       "version_major": 2,
       "version_minor": 0
      },
      "text/plain": [
       "Output()"
      ]
     },
     "metadata": {},
     "output_type": "display_data"
    }
   ],
   "source": [
    "flow = Flow(\n",
    "    rolling_spline_coupling(2, margin=0),\n",
    "    dist.Uniform(),\n",
    ")\n",
    "\n",
    "variables, best_epoch, train_losses, test_losses = train(\n",
    "    flow, X_train, X_test, epochs=100\n",
    ")\n",
    "print(test_losses[best_epoch])\n",
    "\n",
    "plt.figure()\n",
    "plt.plot(train_losses, label=\"train\")\n",
    "plt.plot(test_losses, label=\"test\")\n",
    "plt.semilogy()\n",
    "plt.legend()\n",
    "\n",
    "plt.figure()\n",
    "Xm = flow.apply(variables, 1000, method=\"sample\")\n",
    "plt.scatter(*Xm.T, marker=\"o\", ec=\"none\", alpha=0.3)\n",
    "plt.scatter(*X_test[:1000].T, marker=\"+\", alpha=0.5);"
   ]
  },
  {
   "cell_type": "code",
   "execution_count": null,
   "metadata": {},
   "outputs": [],
   "source": []
  }
 ],
 "metadata": {
  "kernelspec": {
   "display_name": "venv",
   "language": "python",
   "name": "python3"
  },
  "language_info": {
   "codemirror_mode": {
    "name": "ipython",
    "version": 3
   },
   "file_extension": ".py",
   "mimetype": "text/x-python",
   "name": "python",
   "nbconvert_exporter": "python",
   "pygments_lexer": "ipython3",
   "version": "3.11.5"
  }
 },
 "nbformat": 4,
 "nbformat_minor": 2
}
