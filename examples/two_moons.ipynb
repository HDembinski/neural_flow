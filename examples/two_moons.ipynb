{
 "cells": [
  {
   "cell_type": "code",
   "execution_count": null,
   "metadata": {},
   "outputs": [],
   "source": [
    "from sklearn.datasets import make_moons\n",
    "from sklearn.model_selection import train_test_split\n",
    "from matplotlib import pyplot as plt\n",
    "from neural_flow import Flow, train\n",
    "import jax\n",
    "import optax"
   ]
  },
  {
   "cell_type": "code",
   "execution_count": null,
   "metadata": {},
   "outputs": [],
   "source": [
    "X, C = make_moons(10_000, noise=0.1)\n",
    "\n",
    "C = C.reshape(-1, 1)\n",
    "X_train, X_test, C_train, C_test = train_test_split(X, C)\n",
    "X_train = jax.device_put(X_train)\n",
    "X_test = jax.device_put(X_test)\n",
    "C_train = jax.device_put(C_train)\n",
    "C_test = jax.device_put(C_test)\n",
    "\n",
    "flow = Flow()\n",
    "\n",
    "params, best_epoch, train_losses, test_losses = train(\n",
    "    flow, X_train, C_train, X_test, C_test, optimizer=optax.nadamw(learning_rate=1e-3)\n",
    ")\n",
    "test_losses[best_epoch]"
   ]
  },
  {
   "cell_type": "code",
   "execution_count": null,
   "metadata": {},
   "outputs": [],
   "source": [
    "plt.plot(train_losses, label=\"train\")\n",
    "plt.plot(test_losses, label=\"test\")\n",
    "plt.semilogy()\n",
    "plt.legend();"
   ]
  },
  {
   "cell_type": "code",
   "execution_count": null,
   "metadata": {},
   "outputs": [],
   "source": [
    "Xm = flow.sample(params, C_test)\n",
    "plt.scatter(*Xm[:1000].T, c=C_test[:1000], marker=\"o\", alpha=0.3)\n",
    "plt.scatter(*X_test[:1000].T, c=C_test[:1000], marker=\"+\", alpha=0.3);"
   ]
  },
  {
   "cell_type": "code",
   "execution_count": null,
   "metadata": {},
   "outputs": [],
   "source": []
  }
 ],
 "metadata": {
  "kernelspec": {
   "display_name": ".venv",
   "language": "python",
   "name": "python3"
  },
  "language_info": {
   "codemirror_mode": {
    "name": "ipython",
    "version": 3
   },
   "file_extension": ".py",
   "mimetype": "text/x-python",
   "name": "python",
   "nbconvert_exporter": "python",
   "pygments_lexer": "ipython3",
   "version": "3.11.5"
  }
 },
 "nbformat": 4,
 "nbformat_minor": 2
}
