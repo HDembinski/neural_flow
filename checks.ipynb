{
 "cells": [
  {
   "cell_type": "code",
   "execution_count": 1,
   "metadata": {},
   "outputs": [],
   "source": [
    "from neural_flow import bijectors  as b\n",
    "from neural_flow import bijectors2  as b2\n",
    "import jax\n",
    "from jax import numpy as jnp\n",
    "import numpy as np\n",
    "from pprint import pprint"
   ]
  },
  {
   "cell_type": "code",
   "execution_count": 2,
   "metadata": {},
   "outputs": [
    {
     "name": "stdout",
     "output_type": "stream",
     "text": [
      "[[ 5.1696167  1.4978671 -0.7902648]\n",
      " [-1.0347236  6.9327025  7.9275556]\n",
      " [ 4.866358   6.0949655  4.23625  ]\n",
      " [ 8.150724   6.9585357 -1.172615 ]]\n",
      "[[ 2.1054387 -6.        -5.4958115]\n",
      " [-6.         5.9432306  6.       ]\n",
      " [ 1.7092569  4.102276   1.1324356]\n",
      " [ 6.         6.        -6.       ]] [1.3312352 1.3312352 1.3312352 1.3312352]\n",
      "[[ 2.1054385 -6.        -5.495812 ]\n",
      " [-6.         5.943231   6.       ]\n",
      " [ 1.7092569  4.102276   1.1324356]\n",
      " [ 6.         6.        -6.       ]] [1.3312352 1.3312352 1.3312352 1.3312352]\n",
      "[[7.5151043 4.9098144 2.7781749]\n",
      " [2.765967  7.382967  9.389313 ]\n",
      " [7.2829733 7.00175   6.5900197]\n",
      " [9.797005  7.394723  2.4882205]] [-1.3312352 -1.3312352 -1.3312352 -1.3312352]\n",
      "[[7.5151043 4.9098144 2.7781749]\n",
      " [2.765967  7.382967  9.389312 ]\n",
      " [7.2829733 7.00175   6.5900197]\n",
      " [9.797005  7.394723  2.4882207]] [-1.3312352 -1.3312352 -1.3312352 -1.3312352]\n"
     ]
    }
   ],
   "source": [
    "rngkey = jax.random.PRNGKey(0)\n",
    "\n",
    "x = jnp.array(np.random.default_rng(0).uniform(size=12) * 10  - 1.2).reshape(-1, 3)\n",
    "c = jnp.array(np.random.default_rng(0).uniform(size=x.shape[0] * 2) * 10  - 1.2).reshape(-1, 2)\n",
    "\n",
    "params, forward, inverse = b.ShiftBounds(x.min(axis=0), x.max(axis=0), 6)[0](rngkey, x.shape[1])\n",
    "\n",
    "m = b2.ShiftBounds(6)\n",
    "params2 = m.init(rngkey, x, x)\n",
    "\n",
    "print(x)\n",
    "print(*forward(params, x))\n",
    "print(*m.forward(params, x, x))\n",
    "print(*inverse(params, x))\n",
    "print(*m.inverse(params, x, x))"
   ]
  },
  {
   "cell_type": "code",
   "execution_count": 3,
   "metadata": {},
   "outputs": [
    {
     "name": "stdout",
     "output_type": "stream",
     "text": [
      "Array([[ 5.1696167,  1.4978671, -0.7902648],\n",
      "       [-1.0347236,  6.9327025,  7.9275556],\n",
      "       [ 4.866358 ,  6.0949655,  4.23625  ],\n",
      "       [ 8.150724 ,  6.9585357, -1.172615 ]], dtype=float32)\n",
      "(Array([[ 1.4978671, -0.7902648,  5.1696167],\n",
      "       [ 6.9327025,  7.9275556, -1.0347236],\n",
      "       [ 6.0949655,  4.23625  ,  4.866358 ],\n",
      "       [ 6.9585357, -1.172615 ,  8.150724 ]], dtype=float32),\n",
      " Array([0., 0., 0., 0.], dtype=float32))\n",
      "(Array([[-0.7902648,  5.1696167,  1.4978671],\n",
      "       [ 7.9275556, -1.0347236,  6.9327025],\n",
      "       [ 4.23625  ,  4.866358 ,  6.0949655],\n",
      "       [-1.172615 ,  8.150724 ,  6.9585357]], dtype=float32),\n",
      " Array([0., 0., 0., 0.], dtype=float32))\n",
      "(Array([[ 1.4978671, -0.7902648,  5.1696167],\n",
      "       [ 6.9327025,  7.9275556, -1.0347236],\n",
      "       [ 6.0949655,  4.23625  ,  4.866358 ],\n",
      "       [ 6.9585357, -1.172615 ,  8.150724 ]], dtype=float32),\n",
      " Array([0., 0., 0., 0.], dtype=float32))\n",
      "(Array([[-0.7902648,  5.1696167,  1.4978671],\n",
      "       [ 7.9275556, -1.0347236,  6.9327025],\n",
      "       [ 4.23625  ,  4.866358 ,  6.0949655],\n",
      "       [-1.172615 ,  8.150724 ,  6.9585357]], dtype=float32),\n",
      " Array([0., 0., 0., 0.], dtype=float32))\n"
     ]
    }
   ],
   "source": [
    "params, forward, inverse = b.Roll(2)[0](rngkey, x.shape[1])\n",
    "\n",
    "pprint(x)\n",
    "\n",
    "pprint(forward(params, x))\n",
    "pprint(inverse(params, x))\n",
    "\n",
    "m = b2.Roll(2)\n",
    "params = m.init(rngkey, x, x)\n",
    "\n",
    "pprint(m.forward(params, x, x))\n",
    "pprint(m.inverse(params, x, x))"
   ]
  },
  {
   "cell_type": "code",
   "execution_count": 4,
   "metadata": {},
   "outputs": [
    {
     "name": "stdout",
     "output_type": "stream",
     "text": [
      "Array([[ 5.1696167,  1.4978671, -0.7902648],\n",
      "       [-1.0347236,  6.9327025,  7.9275556],\n",
      "       [ 4.866358 ,  6.0949655,  4.23625  ],\n",
      "       [ 8.150724 ,  6.9585357, -1.172615 ]], dtype=float32)\n",
      "(Array([[ 5.1696167,  4.275432 ,  1.5589511],\n",
      "       [-1.0347236,  6.9327025,  7.9275556],\n",
      "       [ 4.866358 ,  6.0949655,  4.999849 ],\n",
      "       [ 8.150724 ,  6.9585357,  4.726246 ]], dtype=float32),\n",
      " Array([ -4.920542,   0.      , -18.03167 ,  -1.587937], dtype=float32))\n",
      "(Array([[ 5.1696167,  4.275432 ,  1.5589511],\n",
      "       [-1.0347236,  6.9327025,  7.9275556],\n",
      "       [ 4.866358 ,  6.0949655,  4.999849 ],\n",
      "       [ 8.150724 ,  6.9585357,  4.726246 ]], dtype=float32),\n",
      " Array([ -4.920542,   0.      , -18.03167 ,  -1.587937], dtype=float32))\n",
      "(Array([[ 5.1696167 , -0.24028783, -3.3333778 ],\n",
      "       [-1.0347236 ,  6.9327025 ,  7.9275556 ],\n",
      "       [ 4.866358  ,  6.0949655 , -4.201853  ],\n",
      "       [ 8.150724  ,  6.9585357 , -3.3949006 ]], dtype=float32),\n",
      " Array([-4.921891 , -0.       , -1.933465 , -5.0246964], dtype=float32))\n",
      "(Array([[ 5.1696167 , -0.24028783, -3.3333778 ],\n",
      "       [-1.0347236 ,  6.9327025 ,  7.9275556 ],\n",
      "       [ 4.866358  ,  6.0949655 , -4.201853  ],\n",
      "       [ 8.150724  ,  6.9585357 , -3.3949006 ]], dtype=float32),\n",
      " Array([-4.921891 , -0.       , -1.933465 , -5.0246964], dtype=float32))\n"
     ]
    }
   ],
   "source": [
    "params, forward, inverse = b.NeuralSplineCoupling(n_conditions=c.shape[1])[0](rngkey, x.shape[1])\n",
    "\n",
    "m = b2.NeuralSplineCoupling()\n",
    "params2 = m.init(rngkey, x, c)\n",
    "\n",
    "pprint(x)\n",
    "pprint(forward(params, x, conditions=c))\n",
    "pprint(m.forward(params2, x, c))\n",
    "pprint(inverse(params, x, conditions=c))\n",
    "pprint(m.inverse(params2, x, c))"
   ]
  },
  {
   "cell_type": "code",
   "execution_count": 5,
   "metadata": {},
   "outputs": [
    {
     "name": "stdout",
     "output_type": "stream",
     "text": [
      "(Array([[ 5.1696167,  4.9973273,  1.2417324],\n",
      "       [ 4.8839417,  6.9327025,  7.9275556],\n",
      "       [-1.9824331,  6.0949655,  3.7173274],\n",
      "       [ 8.150724 ,  6.9585357,  2.4464202]], dtype=float32),\n",
      " Array([-18.9669    , -37.12782   ,   0.08329237,  -1.8245347 ], dtype=float32))\n",
      "(Array([[ 5.1696167,  4.9973273,  1.2417324],\n",
      "       [ 4.8839417,  6.9327025,  7.9275556],\n",
      "       [-1.9824331,  6.0949655,  3.7173274],\n",
      "       [ 8.150724 ,  6.9585357,  2.4464202]], dtype=float32),\n",
      " Array([-18.9669    , -37.12782   ,   0.08329237,  -1.8245347 ], dtype=float32))\n",
      "(Array([[ 5.1696167, -4.722045 , -2.730033 ],\n",
      "       [-4.309967 ,  6.9327025,  7.9275556],\n",
      "       [ 4.9831004,  6.0949655,  4.51068  ],\n",
      "       [ 8.150724 ,  6.9585357, -4.625471 ]], dtype=float32),\n",
      " Array([ -7.253644 , -13.613178 ,  -6.5933785,  -3.2401614], dtype=float32))\n",
      "(Array([[ 5.1696167, -4.722045 , -2.730033 ],\n",
      "       [-4.309967 ,  6.9327025,  7.9275556],\n",
      "       [ 4.9831004,  6.0949655,  4.51068  ],\n",
      "       [ 8.150724 ,  6.9585357, -4.625471 ]], dtype=float32),\n",
      " Array([ -7.253644 , -13.613178 ,  -6.5933785,  -3.2401614], dtype=float32))\n"
     ]
    }
   ],
   "source": [
    "params, forward, inverse = b.RollingSplineCoupling(3, n_conditions=c.shape[1], hidden_layers=1, hidden_dim=4)[0](rngkey, x.shape[1])\n",
    "\n",
    "m = b2.RollingSplineCoupling(3, hidden_layers=1, hidden_dim=4)\n",
    "params2 = m.init(rngkey, x, c)\n",
    "\n",
    "pprint(forward(params, x, conditions=c))\n",
    "pprint(m.forward(params2, x, c))\n",
    "\n",
    "pprint(inverse(params, x, conditions=c))\n",
    "pprint(m.inverse(params2, x, c))\n"
   ]
  },
  {
   "cell_type": "code",
   "execution_count": null,
   "metadata": {},
   "outputs": [],
   "source": []
  }
 ],
 "metadata": {
  "kernelspec": {
   "display_name": "venv",
   "language": "python",
   "name": "python3"
  },
  "language_info": {
   "codemirror_mode": {
    "name": "ipython",
    "version": 3
   },
   "file_extension": ".py",
   "mimetype": "text/x-python",
   "name": "python",
   "nbconvert_exporter": "python",
   "pygments_lexer": "ipython3",
   "version": "3.11.5"
  }
 },
 "nbformat": 4,
 "nbformat_minor": 2
}
