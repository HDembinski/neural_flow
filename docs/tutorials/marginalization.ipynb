{
 "cells": [
  {
   "cell_type": "markdown",
   "metadata": {},
   "source": [
    "[![Open In Colab](https://colab.research.google.com/assets/colab-badge.svg)](https://colab.research.google.com/github/jfcrenshaw/pzflow/blob/main/docs/tutorials/marginalization.ipynb)\n",
    "[![Open on Github](https://img.shields.io/badge/github-Open%20on%20Github-black?logo=github)](https://github.com/jfcrenshaw/pzflow/blob/main/docs/tutorials/marginalization.ipynb)\n",
    "\n",
    "If running in Colab, to switch to GPU, go to the menu and select Runtime -> Change runtime type -> Hardware accelerator -> GPU.\n",
    "\n",
    "In addition, uncomment and run the following code:"
   ]
  },
  {
   "cell_type": "code",
   "execution_count": null,
   "metadata": {},
   "outputs": [],
   "source": [
    "# !pip install pzflow matplotlib"
   ]
  },
  {
   "cell_type": "markdown",
   "metadata": {},
   "source": [
    "-------------------\n",
    "## Marginalization during posterior calculation\n",
    "\n",
    "This example notebook demonstrates how to marginalize over missing variables during posterior calculation.\n",
    "We will use the Flow trained in the [redshift example](https://github.com/jfcrenshaw/pzflow/blob/main/examples/redshift_example.ipynb)."
   ]
  },
  {
   "cell_type": "code",
   "execution_count": 1,
   "metadata": {},
   "outputs": [],
   "source": [
    "import jax.numpy as jnp\n",
    "import matplotlib.pyplot as plt\n",
    "from pzflow.examples import get_example_flow"
   ]
  },
  {
   "cell_type": "code",
   "execution_count": 2,
   "metadata": {},
   "outputs": [],
   "source": [
    "plt.rcParams[\"figure.facecolor\"] = \"white\""
   ]
  },
  {
   "cell_type": "markdown",
   "metadata": {},
   "source": [
    "First let's load the pre-trained flow, and use it to generate some samples:"
   ]
  },
  {
   "cell_type": "code",
   "execution_count": 47,
   "metadata": {},
   "outputs": [],
   "source": [
    "flow = get_example_flow()\n",
    "samples = flow.sample(2, seed=0)"
   ]
  },
  {
   "cell_type": "code",
   "execution_count": 48,
   "metadata": {},
   "outputs": [
    {
     "data": {
      "text/html": [
       "<div>\n",
       "<style scoped>\n",
       "    .dataframe tbody tr th:only-of-type {\n",
       "        vertical-align: middle;\n",
       "    }\n",
       "\n",
       "    .dataframe tbody tr th {\n",
       "        vertical-align: top;\n",
       "    }\n",
       "\n",
       "    .dataframe thead th {\n",
       "        text-align: right;\n",
       "    }\n",
       "</style>\n",
       "<table border=\"1\" class=\"dataframe\">\n",
       "  <thead>\n",
       "    <tr style=\"text-align: right;\">\n",
       "      <th></th>\n",
       "      <th>redshift</th>\n",
       "      <th>u</th>\n",
       "      <th>g</th>\n",
       "      <th>r</th>\n",
       "      <th>i</th>\n",
       "      <th>z</th>\n",
       "      <th>y</th>\n",
       "    </tr>\n",
       "  </thead>\n",
       "  <tbody>\n",
       "    <tr>\n",
       "      <th>0</th>\n",
       "      <td>0.386102</td>\n",
       "      <td>28.406404</td>\n",
       "      <td>27.508736</td>\n",
       "      <td>26.419685</td>\n",
       "      <td>26.196583</td>\n",
       "      <td>25.901255</td>\n",
       "      <td>25.889046</td>\n",
       "    </tr>\n",
       "    <tr>\n",
       "      <th>1</th>\n",
       "      <td>2.118688</td>\n",
       "      <td>28.220659</td>\n",
       "      <td>27.798203</td>\n",
       "      <td>27.371502</td>\n",
       "      <td>27.211376</td>\n",
       "      <td>26.869678</td>\n",
       "      <td>26.502558</td>\n",
       "    </tr>\n",
       "  </tbody>\n",
       "</table>\n",
       "</div>"
      ],
      "text/plain": [
       "   redshift          u          g          r          i          z          y\n",
       "0  0.386102  28.406404  27.508736  26.419685  26.196583  25.901255  25.889046\n",
       "1  2.118688  28.220659  27.798203  27.371502  27.211376  26.869678  26.502558"
      ]
     },
     "execution_count": 48,
     "metadata": {},
     "output_type": "execute_result"
    }
   ],
   "source": [
    "samples"
   ]
  },
  {
   "cell_type": "markdown",
   "metadata": {},
   "source": [
    "Remember that we can calculate posteriors for the data in samples. For example, let's plot redshift posteriors:"
   ]
  },
  {
   "cell_type": "code",
   "execution_count": 58,
   "metadata": {},
   "outputs": [],
   "source": [
    "grid = jnp.linspace(0.1, 2.4, 100)\n",
    "pdfs = flow.posterior(samples, column=\"redshift\", grid=grid)"
   ]
  },
  {
   "cell_type": "code",
   "execution_count": 59,
   "metadata": {},
   "outputs": [
    {
     "data": {
      "image/png": "[encoded data removed]",
      "text/plain": [
       "<Figure size 480x240 with 2 Axes>"
      ]
     },
     "metadata": {},
     "output_type": "display_data"
    }
   ],
   "source": [
    "fig, axes = plt.subplots(1, 2, figsize=(4, 2), dpi=120, constrained_layout=True)\n",
    "\n",
    "for i, ax in enumerate(axes.flatten()):\n",
    "    \n",
    "    ax.plot(grid, pdfs[i], label=\"Redshift posterior\")\n",
    "    \n",
    "    ztrue = samples[\"redshift\"][i]\n",
    "    ax.axvline(ztrue, c=\"C3\", label=\"True redshift\")\n",
    "    ax.set(\n",
    "        xlabel=\"redshift\", \n",
    "        xlim=(ztrue - 0.25, ztrue + 0.25), \n",
    "        yticks=[]\n",
    "    )\n",
    "    \n",
    "axes[0].legend(\n",
    "    bbox_to_anchor=(0.25, 1.05, 1.5, 0.2), \n",
    "    loc=\"lower left\",\n",
    "    mode=\"expand\", \n",
    "    borderaxespad=0, \n",
    "    ncol=2,\n",
    "    fontsize=8,\n",
    ")\n",
    "\n",
    "plt.show()"
   ]
  },
  {
   "cell_type": "markdown",
   "metadata": {},
   "source": [
    "But what if we have missing values? E.g. let's imagine that galaxy 1 wasn't observed in the u band, while galaxy 2 wasn't observed in the u or y bands. We will mark these non-observations with the value 99:"
   ]
  },
  {
   "cell_type": "code",
   "execution_count": 60,
   "metadata": {},
   "outputs": [
    {
     "data": {
      "text/html": [
       "<div>\n",
       "<style scoped>\n",
       "    .dataframe tbody tr th:only-of-type {\n",
       "        vertical-align: middle;\n",
       "    }\n",
       "\n",
       "    .dataframe tbody tr th {\n",
       "        vertical-align: top;\n",
       "    }\n",
       "\n",
       "    .dataframe thead th {\n",
       "        text-align: right;\n",
       "    }\n",
       "</style>\n",
       "<table border=\"1\" class=\"dataframe\">\n",
       "  <thead>\n",
       "    <tr style=\"text-align: right;\">\n",
       "      <th></th>\n",
       "      <th>redshift</th>\n",
       "      <th>u</th>\n",
       "      <th>g</th>\n",
       "      <th>r</th>\n",
       "      <th>i</th>\n",
       "      <th>z</th>\n",
       "      <th>y</th>\n",
       "    </tr>\n",
       "  </thead>\n",
       "  <tbody>\n",
       "    <tr>\n",
       "      <th>0</th>\n",
       "      <td>0.386102</td>\n",
       "      <td>99.0</td>\n",
       "      <td>27.508736</td>\n",
       "      <td>26.419685</td>\n",
       "      <td>26.196583</td>\n",
       "      <td>25.901255</td>\n",
       "      <td>25.889046</td>\n",
       "    </tr>\n",
       "    <tr>\n",
       "      <th>1</th>\n",
       "      <td>2.118688</td>\n",
       "      <td>99.0</td>\n",
       "      <td>27.798203</td>\n",
       "      <td>27.371502</td>\n",
       "      <td>27.211376</td>\n",
       "      <td>26.869678</td>\n",
       "      <td>99.000000</td>\n",
       "    </tr>\n",
       "  </tbody>\n",
       "</table>\n",
       "</div>"
      ],
      "text/plain": [
       "   redshift     u          g          r          i          z          y\n",
       "0  0.386102  99.0  27.508736  26.419685  26.196583  25.901255  25.889046\n",
       "1  2.118688  99.0  27.798203  27.371502  27.211376  26.869678  99.000000"
      ]
     },
     "execution_count": 60,
     "metadata": {},
     "output_type": "execute_result"
    }
   ],
   "source": [
    "# make a new copy of the samples\n",
    "samples2 = samples.copy()\n",
    "# make the non-observations\n",
    "samples2.iloc[0, 1] = 99\n",
    "samples2.iloc[1, 1] = 99\n",
    "samples2.iloc[1, -1] = 99\n",
    "# print the new samples\n",
    "samples2"
   ]
  },
  {
   "cell_type": "markdown",
   "metadata": {},
   "source": [
    "Now if we want to calculate posteriors, we can't simply call `flow.posterior()` as before because the flow will think that 99 is the actual value for those bands, rather than just a flag for a missing value. What we can do, however, is pass `marg_rules`, which is a dictionary of rules that tells the Flow how to marginalize over missing variables.\n",
    "\n",
    "`marg_rules` must include:\n",
    "- \"flag\": 99, which tells the posterior method that 99 is the flag for missing values\n",
    "- \"u\": callable, which returns an array of values for the u band over which to marginalize\n",
    "- \"y\": callable, which returns an array of values for the y band over which to marginalize\n",
    "\n",
    "\"u\" and \"y\" both map to callable, because you can use a function of the other values to decide what values of u and y to marginalize over. For example, maybe you expect the value of u to be close to the value of g. In which case you might use:\n",
    "```\n",
    "\"u\": lambda row: np.linspace(row[\"g\"] - 1, row[\"g\"] + 1, 100)\n",
    "```\n",
    "The only constraint is that regardless of the values of the other variables, the callable must *always* return an array of the same length.\n",
    "\n",
    "For this example, we won't make the marginalization rules a function of the other variables, but will instead return a fixed array."
   ]
  },
  {
   "cell_type": "code",
   "execution_count": 63,
   "metadata": {},
   "outputs": [],
   "source": [
    "marg_rules = {\n",
    "    \"flag\": 99, # tells the posterior method that 99 means missing value\n",
    "    \"u\": lambda row: jnp.linspace(27, 29, 40), # the array of u values to marginalize over\n",
    "    \"y\": lambda row: jnp.linspace(25, 27, 40), # the array of y values to marginalize over\n",
    "}\n",
    "\n",
    "pdfs2 = flow.posterior(samples2, column=\"redshift\", grid=grid, marg_rules=marg_rules)"
   ]
  },
  {
   "cell_type": "code",
   "execution_count": 64,
   "metadata": {},
   "outputs": [
    {
     "data": {
      "image/png": "[encoded data removed]",
      "text/plain": [
       "<Figure size 480x240 with 2 Axes>"
      ]
     },
     "metadata": {},
     "output_type": "display_data"
    }
   ],
   "source": [
    "fig, axes = plt.subplots(1, 2, figsize=(4, 2), dpi=120, constrained_layout=True)\n",
    "\n",
    "for i, ax in enumerate(axes.flatten()):\n",
    "    \n",
    "    ax.plot(grid, pdfs[i], label=\"Posterior w/ all bands\")\n",
    "    ax.plot(grid, pdfs2[i], label=\"Posterior w/ missing bands marginalized\")\n",
    "    \n",
    "    ztrue = samples[\"redshift\"][i]\n",
    "    ax.axvline(ztrue, c=\"C3\", label=\"True redshift\")\n",
    "    ax.set(\n",
    "        xlabel=\"redshift\", \n",
    "        xlim=(ztrue - 0.25, ztrue + 0.25), \n",
    "        yticks=[]\n",
    "    )\n",
    "    \n",
    "axes[0].legend(\n",
    "    bbox_to_anchor=(0, 1.05, 2, 0.2), \n",
    "    loc=\"lower left\",\n",
    "    mode=\"expand\", \n",
    "    borderaxespad=0, \n",
    "    ncol=2,\n",
    "    fontsize=7.5,\n",
    ")\n",
    "\n",
    "plt.show()"
   ]
  },
  {
   "cell_type": "markdown",
   "metadata": {},
   "source": [
    "You can see that for the low-redshift galaxy, throwing away the $u$ band has almost no impact. But for the high-redshift galaxy, throwing away the $u$ band biases the posterior towards higher redshifts.\n",
    "\n",
    "Warning that marginalizing over fine grids quickly gets very computationally expensive, especially when you have rows in your data frame that are missing multiple values."
   ]
  },
  {
   "cell_type": "code",
   "execution_count": null,
   "metadata": {},
   "outputs": [],
   "source": []
  }
 ],
 "metadata": {
  "interpreter": {
   "hash": "12e089b4d8e7c489ece8bd483c1f38c5ce283ca32d0fbd08723b9602a5027f48"
  },
  "kernelspec": {
   "display_name": "Python 3.9.1 64-bit ('pzflow': conda)",
   "language": "python",
   "name": "python3"
  },
  "language_info": {
   "codemirror_mode": {
    "name": "ipython",
    "version": 3
   },
   "file_extension": ".py",
   "mimetype": "text/x-python",
   "name": "python",
   "nbconvert_exporter": "python",
   "pygments_lexer": "ipython3",
   "version": "3.9.12"
  }
 },
 "nbformat": 4,
 "nbformat_minor": 4
}
