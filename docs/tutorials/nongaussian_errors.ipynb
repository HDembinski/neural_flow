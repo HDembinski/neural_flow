{
 "cells": [
  {
   "cell_type": "markdown",
   "metadata": {},
   "source": [
    "[![Open In Colab](https://colab.research.google.com/assets/colab-badge.svg)](https://colab.research.google.com/github/jfcrenshaw/pzflow/blob/main/docs/tutorials/nongaussian_errors.ipynb)\n",
    "[![Open on Github](https://img.shields.io/badge/github-Open%20on%20Github-black?logo=github)](https://github.com/jfcrenshaw/pzflow/blob/main/docs/tutorials/nongaussian_errors.ipynb)\n",
    "\n",
    "If running in Colab, to switch to GPU, go to the menu and select Runtime -> Change runtime type -> Hardware accelerator -> GPU.\n",
    "\n",
    "In addition, uncomment and run the following code:"
   ]
  },
  {
   "cell_type": "code",
   "execution_count": null,
   "metadata": {},
   "outputs": [],
   "source": [
    "# !pip install pzflow matplotlib"
   ]
  },
  {
   "cell_type": "markdown",
   "metadata": {},
   "source": [
    "------------------\n",
    "## Convolving non-Gaussian errors\n",
    "\n",
    "This notebook demonstrates how to train a flow on data that has non-Gaussian errors/uncertainties, as well as convolving those errors in log_prob and posterior calculations.\n",
    "We will use the example galaxy data again.\n",
    "\n",
    "For an example of how to handle Gaussian errors, which is much easier, see the notebook on Gaussian errors."
   ]
  },
  {
   "cell_type": "code",
   "execution_count": 5,
   "metadata": {},
   "outputs": [],
   "source": [
    "import numpy as np\n",
    "import jax.numpy as jnp\n",
    "from jax import random\n",
    "import matplotlib.pyplot as plt\n",
    "\n",
    "from pzflow import Flow\n",
    "from pzflow.examples import get_galaxy_data"
   ]
  },
  {
   "cell_type": "code",
   "execution_count": 6,
   "metadata": {},
   "outputs": [],
   "source": [
    "plt.rcParams[\"figure.facecolor\"] = \"white\""
   ]
  },
  {
   "cell_type": "markdown",
   "metadata": {},
   "source": [
    "First let's load the example galaxy data set included with PZFlow, and include photometric errors. For simplicity, we will assume all bands have error = 0.1"
   ]
  },
  {
   "cell_type": "code",
   "execution_count": 7,
   "metadata": {},
   "outputs": [
    {
     "data": {
      "text/html": [
       "<div>\n",
       "<style scoped>\n",
       "    .dataframe tbody tr th:only-of-type {\n",
       "        vertical-align: middle;\n",
       "    }\n",
       "\n",
       "    .dataframe tbody tr th {\n",
       "        vertical-align: top;\n",
       "    }\n",
       "\n",
       "    .dataframe thead th {\n",
       "        text-align: right;\n",
       "    }\n",
       "</style>\n",
       "<table border=\"1\" class=\"dataframe\">\n",
       "  <thead>\n",
       "    <tr style=\"text-align: right;\">\n",
       "      <th></th>\n",
       "      <th>redshift</th>\n",
       "      <th>u</th>\n",
       "      <th>g</th>\n",
       "      <th>r</th>\n",
       "      <th>i</th>\n",
       "      <th>z</th>\n",
       "      <th>y</th>\n",
       "      <th>u_err</th>\n",
       "      <th>g_err</th>\n",
       "      <th>r_err</th>\n",
       "      <th>i_err</th>\n",
       "      <th>z_err</th>\n",
       "      <th>y_err</th>\n",
       "    </tr>\n",
       "  </thead>\n",
       "  <tbody>\n",
       "    <tr>\n",
       "      <th>0</th>\n",
       "      <td>0.287087</td>\n",
       "      <td>26.759261</td>\n",
       "      <td>25.901778</td>\n",
       "      <td>25.187710</td>\n",
       "      <td>24.932318</td>\n",
       "      <td>24.736903</td>\n",
       "      <td>24.671623</td>\n",
       "      <td>0.1</td>\n",
       "      <td>0.1</td>\n",
       "      <td>0.1</td>\n",
       "      <td>0.1</td>\n",
       "      <td>0.1</td>\n",
       "      <td>0.1</td>\n",
       "    </tr>\n",
       "    <tr>\n",
       "      <th>1</th>\n",
       "      <td>0.293313</td>\n",
       "      <td>27.428358</td>\n",
       "      <td>26.679299</td>\n",
       "      <td>25.977161</td>\n",
       "      <td>25.700094</td>\n",
       "      <td>25.522763</td>\n",
       "      <td>25.417632</td>\n",
       "      <td>0.1</td>\n",
       "      <td>0.1</td>\n",
       "      <td>0.1</td>\n",
       "      <td>0.1</td>\n",
       "      <td>0.1</td>\n",
       "      <td>0.1</td>\n",
       "    </tr>\n",
       "    <tr>\n",
       "      <th>2</th>\n",
       "      <td>1.497276</td>\n",
       "      <td>27.294001</td>\n",
       "      <td>26.068798</td>\n",
       "      <td>25.450055</td>\n",
       "      <td>24.460507</td>\n",
       "      <td>23.887221</td>\n",
       "      <td>23.206112</td>\n",
       "      <td>0.1</td>\n",
       "      <td>0.1</td>\n",
       "      <td>0.1</td>\n",
       "      <td>0.1</td>\n",
       "      <td>0.1</td>\n",
       "      <td>0.1</td>\n",
       "    </tr>\n",
       "    <tr>\n",
       "      <th>3</th>\n",
       "      <td>0.283310</td>\n",
       "      <td>28.154075</td>\n",
       "      <td>26.283166</td>\n",
       "      <td>24.599570</td>\n",
       "      <td>23.723491</td>\n",
       "      <td>23.214108</td>\n",
       "      <td>22.860012</td>\n",
       "      <td>0.1</td>\n",
       "      <td>0.1</td>\n",
       "      <td>0.1</td>\n",
       "      <td>0.1</td>\n",
       "      <td>0.1</td>\n",
       "      <td>0.1</td>\n",
       "    </tr>\n",
       "    <tr>\n",
       "      <th>4</th>\n",
       "      <td>1.545183</td>\n",
       "      <td>29.276065</td>\n",
       "      <td>27.878301</td>\n",
       "      <td>27.333528</td>\n",
       "      <td>26.543374</td>\n",
       "      <td>26.061941</td>\n",
       "      <td>25.383056</td>\n",
       "      <td>0.1</td>\n",
       "      <td>0.1</td>\n",
       "      <td>0.1</td>\n",
       "      <td>0.1</td>\n",
       "      <td>0.1</td>\n",
       "      <td>0.1</td>\n",
       "    </tr>\n",
       "  </tbody>\n",
       "</table>\n",
       "</div>"
      ],
      "text/plain": [
       "   redshift          u          g          r          i          z          y  \\\n",
       "0  0.287087  26.759261  25.901778  25.187710  24.932318  24.736903  24.671623   \n",
       "1  0.293313  27.428358  26.679299  25.977161  25.700094  25.522763  25.417632   \n",
       "2  1.497276  27.294001  26.068798  25.450055  24.460507  23.887221  23.206112   \n",
       "3  0.283310  28.154075  26.283166  24.599570  23.723491  23.214108  22.860012   \n",
       "4  1.545183  29.276065  27.878301  27.333528  26.543374  26.061941  25.383056   \n",
       "\n",
       "   u_err  g_err  r_err  i_err  z_err  y_err  \n",
       "0    0.1    0.1    0.1    0.1    0.1    0.1  \n",
       "1    0.1    0.1    0.1    0.1    0.1    0.1  \n",
       "2    0.1    0.1    0.1    0.1    0.1    0.1  \n",
       "3    0.1    0.1    0.1    0.1    0.1    0.1  \n",
       "4    0.1    0.1    0.1    0.1    0.1    0.1  "
      ]
     },
     "execution_count": 7,
     "metadata": {},
     "output_type": "execute_result"
    }
   ],
   "source": [
    "data = get_galaxy_data()\n",
    "for col in data.columns[1:]:\n",
    "    data[f\"{col}_err\"] = 0.1 * np.ones(data.shape[0])\n",
    "data.head()"
   ]
  },
  {
   "cell_type": "markdown",
   "metadata": {},
   "source": [
    "Now, we need to build the machinery to handle non-Gaussian errors. PZFlow convolves errors by sampling from an error model, which by default is Gaussian. If we want to convolve non-Gaussian errors, we need to pass the `Flow` constructor an error model that tells it how to sample from our non-Gaussian distribution.\n",
    "\n",
    "The error model must be a callable that takes the following arguments:\n",
    "- key is a jax rng key, e.g. jax.random.PRNGKey(0)\n",
    "- X is a 2 dimensional array of data variables, where the order of variables matches the order of the columns in data_columns\n",
    "- Xerr is the corresponding 2 dimensional array of errors\n",
    "- nsamples is the number of samples to draw from the error distribution\n",
    "\n",
    "and it must return an array of samples with the shape `(X.shape[0], nsamples, X.shape[1])`\n",
    "\n",
    "Below we build a photometric error model, which takes the exponential of the magnitudes to convert to flux values, adds Gaussian flux errors, then takes the log to convert back to magnitudes. "
   ]
  },
  {
   "cell_type": "code",
   "execution_count": 9,
   "metadata": {},
   "outputs": [],
   "source": [
    "def photometric_error_model(\n",
    "    key,\n",
    "    X: np.ndarray,\n",
    "    Xerr: np.ndarray,\n",
    "    nsamples: int,\n",
    ") -> np.ndarray:\n",
    "    \n",
    "    # calculate fluxes\n",
    "    F = 10 ** (X / -2.5)\n",
    "    # calculate flux errors\n",
    "    dF = np.log(10) / 2.5 * F * Xerr\n",
    "    \n",
    "    # add Gaussian errors\n",
    "    eps = random.normal(key, shape=(F.shape[0], nsamples, F.shape[1]))\n",
    "    F = F[:, None, :] + eps * dF[:, None, :]\n",
    "    \n",
    "    # add a flux floor to avoid infinite magnitudes\n",
    "    # this flux corresponds to a max magnitude of 30\n",
    "    F = np.clip(F, 1e-12, None)\n",
    "    \n",
    "    # calculate magnitudes\n",
    "    M = -2.5 * np.log10(F)\n",
    "    \n",
    "    return M"
   ]
  },
  {
   "cell_type": "markdown",
   "metadata": {},
   "source": [
    "Now we can construct the Flow, this time passing the error model"
   ]
  },
  {
   "cell_type": "code",
   "execution_count": 10,
   "metadata": {},
   "outputs": [],
   "source": [
    "flow = Flow(\n",
    "    [\"redshift\"] + list(\"ugrizy\"), \n",
    "    data_error_model=photometric_error_model,\n",
    ")"
   ]
  },
  {
   "cell_type": "markdown",
   "metadata": {},
   "source": [
    "Now that we have set up the Flow with the new error model, we can train the flow, calculate posteriors, etc. just like we did in the Gaussian error example.\n",
    "\n",
    "For example, to train with error convolution:"
   ]
  },
  {
   "cell_type": "code",
   "execution_count": 11,
   "metadata": {},
   "outputs": [
    {
     "name": "stderr",
     "output_type": "stream",
     "text": [
      "WARNING:absl:No GPU/TPU found, falling back to CPU. (Set TF_CPP_MIN_LOG_LEVEL=0 and rerun for more info.)\n"
     ]
    },
    {
     "name": "stdout",
     "output_type": "stream",
     "text": [
      "Training 200 epochs \n",
      "Loss:\n",
      "(0) 20.3297\n",
      "(1) 2.9366\n",
      "(11) 0.1215\n",
      "(21) -0.1496\n",
      "(31) -0.0601\n",
      "(41) -0.1246\n",
      "(51) -0.2496\n",
      "(61) -0.0759\n",
      "(71) 0.1112\n",
      "(81) -0.2375\n",
      "(91) -0.2352\n",
      "(101) -0.2811\n",
      "(111) -0.2134\n",
      "(121) -0.2033\n",
      "(131) -0.2952\n",
      "(141) -0.2706\n",
      "(151) -0.2759\n",
      "(161) -0.2222\n",
      "(171) -0.1448\n",
      "(181) -0.2966\n",
      "(191) -0.1698\n",
      "(200) -0.2314\n",
      "CPU times: user 1h 8min 26s, sys: 45min 42s, total: 1h 54min 8s\n",
      "Wall time: 22min 21s\n"
     ]
    }
   ],
   "source": [
    "%%time\n",
    "losses = flow.train(data, epochs=200, convolve_errs=True, verbose=True)"
   ]
  },
  {
   "cell_type": "markdown",
   "metadata": {},
   "source": [
    "And to calculate posteriors with error convolution:"
   ]
  },
  {
   "cell_type": "code",
   "execution_count": 12,
   "metadata": {},
   "outputs": [],
   "source": [
    "grid = np.linspace(0, 3, 100)\n",
    "pdfs = flow.posterior(data[:10], column=\"redshift\", grid=grid, err_samples=int(1e3))"
   ]
  },
  {
   "cell_type": "code",
   "execution_count": 13,
   "metadata": {},
   "outputs": [
    {
     "data": {
      "image/png": "[encoded data removed]",
      "text/plain": [
       "<Figure size 480x480 with 4 Axes>"
      ]
     },
     "metadata": {},
     "output_type": "display_data"
    }
   ],
   "source": [
    "fig, axes = plt.subplots(2, 2, figsize=(4, 4), dpi=120, constrained_layout=True)\n",
    "\n",
    "for i, ax in enumerate(axes.flatten()):\n",
    "    \n",
    "    ax.plot(grid, pdfs[i], label=\"Posterior\")\n",
    "    ax.axvline(data[\"redshift\"][i], c=\"C3\", label=\"True redshift\")\n",
    "    ax.set(xlabel=\"redshift\", yticks=[])\n",
    "\n",
    "axes[0,0].legend()\n",
    "plt.show()"
   ]
  },
  {
   "cell_type": "code",
   "execution_count": null,
   "metadata": {},
   "outputs": [],
   "source": []
  }
 ],
 "metadata": {
  "interpreter": {
   "hash": "12e089b4d8e7c489ece8bd483c1f38c5ce283ca32d0fbd08723b9602a5027f48"
  },
  "kernelspec": {
   "display_name": "Python 3.9.1 64-bit ('pzflow': conda)",
   "language": "python",
   "name": "python3"
  },
  "language_info": {
   "codemirror_mode": {
    "name": "ipython",
    "version": 3
   },
   "file_extension": ".py",
   "mimetype": "text/x-python",
   "name": "python",
   "nbconvert_exporter": "python",
   "pygments_lexer": "ipython3",
   "version": "3.9.12"
  }
 },
 "nbformat": 4,
 "nbformat_minor": 4
}
