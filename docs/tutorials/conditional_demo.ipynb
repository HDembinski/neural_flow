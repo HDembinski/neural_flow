{
 "cells": [
  {
   "cell_type": "markdown",
   "metadata": {},
   "source": [
    "[![Open In Colab](https://colab.research.google.com/assets/colab-badge.svg)](https://colab.research.google.com/github/jfcrenshaw/pzflow/blob/main/docs/tutorials/conditional_demo.ipynb)\n",
    "[![Open on Github](https://img.shields.io/badge/github-Open%20on%20Github-black?logo=github)](https://colab.research.google.com/github/jfcrenshaw/pzflow/blob/main/docs/tutorials/conditional_demo.ipynb)\n",
    "\n",
    "If running in Colab, to switch to GPU, go to the menu and select Runtime -> Change runtime type -> Hardware accelerator -> GPU.\n",
    "\n",
    "In addition, uncomment and run the following code:"
   ]
  },
  {
   "cell_type": "code",
   "execution_count": 1,
   "metadata": {},
   "outputs": [],
   "source": [
    "# !pip install pzflow matplotlib"
   ]
  },
  {
   "cell_type": "markdown",
   "metadata": {},
   "source": [
    "-------------------\n",
    "## Conditional flow example\n",
    "\n",
    "This notebook uses the same data as the introduction, but this time, instead of modeling the full joint probability distribution, we will model the distribution of `x` conditioned on the value of `y`.\n",
    "\n",
    "In math, instead of modeling $p(x, y)$, we will model $p(x|y)$.\n",
    "\n",
    "Note that this just a basic 1-dimensional example, but it is also possible to condition a high-dimesional distribution on multiple variables. For example, you might build the 7-dimensional flow from the [redshift example](https://github.com/jfcrenshaw/pzflow/blob/main/examples/redshift_example.ipynb), but condition the flow on right ascension and declination."
   ]
  },
  {
   "cell_type": "code",
   "execution_count": 1,
   "metadata": {},
   "outputs": [],
   "source": [
    "import jax.numpy as jnp\n",
    "import matplotlib.pyplot as plt\n",
    "\n",
    "from pzflow import Flow\n",
    "from pzflow.examples import get_twomoons_data"
   ]
  },
  {
   "cell_type": "markdown",
   "metadata": {},
   "source": [
    "First let's load the two moons data set again:"
   ]
  },
  {
   "cell_type": "code",
   "execution_count": 2,
   "metadata": {},
   "outputs": [
    {
     "data": {
      "text/html": [
       "<div>\n",
       "<style scoped>\n",
       "    .dataframe tbody tr th:only-of-type {\n",
       "        vertical-align: middle;\n",
       "    }\n",
       "\n",
       "    .dataframe tbody tr th {\n",
       "        vertical-align: top;\n",
       "    }\n",
       "\n",
       "    .dataframe thead th {\n",
       "        text-align: right;\n",
       "    }\n",
       "</style>\n",
       "<table border=\"1\" class=\"dataframe\">\n",
       "  <thead>\n",
       "    <tr style=\"text-align: right;\">\n",
       "      <th></th>\n",
       "      <th>x</th>\n",
       "      <th>y</th>\n",
       "    </tr>\n",
       "  </thead>\n",
       "  <tbody>\n",
       "    <tr>\n",
       "      <th>0</th>\n",
       "      <td>-0.748695</td>\n",
       "      <td>0.777733</td>\n",
       "    </tr>\n",
       "    <tr>\n",
       "      <th>1</th>\n",
       "      <td>1.690101</td>\n",
       "      <td>-0.207291</td>\n",
       "    </tr>\n",
       "    <tr>\n",
       "      <th>2</th>\n",
       "      <td>2.008558</td>\n",
       "      <td>0.285932</td>\n",
       "    </tr>\n",
       "    <tr>\n",
       "      <th>3</th>\n",
       "      <td>1.291547</td>\n",
       "      <td>-0.441167</td>\n",
       "    </tr>\n",
       "    <tr>\n",
       "      <th>4</th>\n",
       "      <td>0.808686</td>\n",
       "      <td>-0.481017</td>\n",
       "    </tr>\n",
       "    <tr>\n",
       "      <th>...</th>\n",
       "      <td>...</td>\n",
       "      <td>...</td>\n",
       "    </tr>\n",
       "    <tr>\n",
       "      <th>99995</th>\n",
       "      <td>1.642738</td>\n",
       "      <td>-0.221286</td>\n",
       "    </tr>\n",
       "    <tr>\n",
       "      <th>99996</th>\n",
       "      <td>0.981221</td>\n",
       "      <td>0.327815</td>\n",
       "    </tr>\n",
       "    <tr>\n",
       "      <th>99997</th>\n",
       "      <td>0.990856</td>\n",
       "      <td>0.182546</td>\n",
       "    </tr>\n",
       "    <tr>\n",
       "      <th>99998</th>\n",
       "      <td>-0.343144</td>\n",
       "      <td>0.877573</td>\n",
       "    </tr>\n",
       "    <tr>\n",
       "      <th>99999</th>\n",
       "      <td>1.851718</td>\n",
       "      <td>0.008531</td>\n",
       "    </tr>\n",
       "  </tbody>\n",
       "</table>\n",
       "<p>100000 rows × 2 columns</p>\n",
       "</div>"
      ],
      "text/plain": [
       "              x         y\n",
       "0     -0.748695  0.777733\n",
       "1      1.690101 -0.207291\n",
       "2      2.008558  0.285932\n",
       "3      1.291547 -0.441167\n",
       "4      0.808686 -0.481017\n",
       "...         ...       ...\n",
       "99995  1.642738 -0.221286\n",
       "99996  0.981221  0.327815\n",
       "99997  0.990856  0.182546\n",
       "99998 -0.343144  0.877573\n",
       "99999  1.851718  0.008531\n",
       "\n",
       "[100000 rows x 2 columns]"
      ]
     },
     "execution_count": 2,
     "metadata": {},
     "output_type": "execute_result"
    }
   ],
   "source": [
    "data = get_twomoons_data()\n",
    "data"
   ]
  },
  {
   "cell_type": "markdown",
   "metadata": {},
   "source": [
    "We can build the conditional flow in the same way we built the regular flow in the intro.\n",
    "All we have to do is provide the name of the column the distribution is conditioned on."
   ]
  },
  {
   "cell_type": "code",
   "execution_count": 3,
   "metadata": {},
   "outputs": [
    {
     "name": "stderr",
     "output_type": "stream",
     "text": [
      "WARNING:absl:No GPU/TPU found, falling back to CPU. (Set TF_CPP_MIN_LOG_LEVEL=0 and rerun for more info.)\n"
     ]
    }
   ],
   "source": [
    "flow = Flow(data_columns=[\"x\"], conditional_columns=[\"y\"])"
   ]
  },
  {
   "cell_type": "markdown",
   "metadata": {},
   "source": [
    "Now we are ready to train the flow:"
   ]
  },
  {
   "cell_type": "code",
   "execution_count": 4,
   "metadata": {},
   "outputs": [
    {
     "name": "stdout",
     "output_type": "stream",
     "text": [
      "Training 100 epochs \n",
      "Loss:\n",
      "(0) 1.4365\n",
      "(1) 0.1589\n",
      "(6) -0.1398\n",
      "(11) -0.1478\n",
      "(16) -0.1447\n",
      "(21) -0.1649\n",
      "(26) -0.1784\n",
      "(31) -0.1631\n",
      "(36) -0.1793\n",
      "(41) -0.1570\n",
      "(46) -0.1478\n",
      "(51) -0.1729\n",
      "(56) -0.1537\n",
      "(61) -0.1768\n",
      "(66) -0.1641\n",
      "(71) -0.1798\n",
      "(76) -0.1568\n",
      "(81) -0.1651\n",
      "(86) -0.1396\n",
      "(91) -0.1830\n",
      "(96) -0.1805\n",
      "(100) -0.1686\n"
     ]
    }
   ],
   "source": [
    "losses = flow.train(data, verbose=True)"
   ]
  },
  {
   "cell_type": "code",
   "execution_count": 5,
   "metadata": {},
   "outputs": [
    {
     "data": {
      "image/png": "[encoded data removed]",
      "text/plain": [
       "<Figure size 432x288 with 1 Axes>"
      ]
     },
     "metadata": {
      "needs_background": "light"
     },
     "output_type": "display_data"
    }
   ],
   "source": [
    "plt.plot(losses)\n",
    "plt.xlabel(\"Epoch\")\n",
    "plt.ylabel(\"Training loss\")\n",
    "plt.show()"
   ]
  },
  {
   "cell_type": "markdown",
   "metadata": {},
   "source": [
    "Great!\n",
    "\n",
    "You can use this flow very similarly to how we used the regular flow.\n",
    "We can sample and calculate posteriors -- the big difference is that we now provide conditions to condition the distribution on. \n",
    "\n",
    "So for example, we can condition the distribution on the first value in our DataFrame, and draw 1000 samples:"
   ]
  },
  {
   "cell_type": "code",
   "execution_count": 6,
   "metadata": {},
   "outputs": [
    {
     "data": {
      "text/html": [
       "<div>\n",
       "<style scoped>\n",
       "    .dataframe tbody tr th:only-of-type {\n",
       "        vertical-align: middle;\n",
       "    }\n",
       "\n",
       "    .dataframe tbody tr th {\n",
       "        vertical-align: top;\n",
       "    }\n",
       "\n",
       "    .dataframe thead th {\n",
       "        text-align: right;\n",
       "    }\n",
       "</style>\n",
       "<table border=\"1\" class=\"dataframe\">\n",
       "  <thead>\n",
       "    <tr style=\"text-align: right;\">\n",
       "      <th></th>\n",
       "      <th>x</th>\n",
       "      <th>y</th>\n",
       "    </tr>\n",
       "  </thead>\n",
       "  <tbody>\n",
       "    <tr>\n",
       "      <th>0</th>\n",
       "      <td>-0.706093</td>\n",
       "      <td>0.777733</td>\n",
       "    </tr>\n",
       "    <tr>\n",
       "      <th>0</th>\n",
       "      <td>-0.602977</td>\n",
       "      <td>0.777733</td>\n",
       "    </tr>\n",
       "    <tr>\n",
       "      <th>0</th>\n",
       "      <td>-0.532370</td>\n",
       "      <td>0.777733</td>\n",
       "    </tr>\n",
       "    <tr>\n",
       "      <th>0</th>\n",
       "      <td>-0.615776</td>\n",
       "      <td>0.777733</td>\n",
       "    </tr>\n",
       "    <tr>\n",
       "      <th>0</th>\n",
       "      <td>0.616342</td>\n",
       "      <td>0.777733</td>\n",
       "    </tr>\n",
       "    <tr>\n",
       "      <th>...</th>\n",
       "      <td>...</td>\n",
       "      <td>...</td>\n",
       "    </tr>\n",
       "    <tr>\n",
       "      <th>0</th>\n",
       "      <td>0.592016</td>\n",
       "      <td>0.777733</td>\n",
       "    </tr>\n",
       "    <tr>\n",
       "      <th>0</th>\n",
       "      <td>-0.556290</td>\n",
       "      <td>0.777733</td>\n",
       "    </tr>\n",
       "    <tr>\n",
       "      <th>0</th>\n",
       "      <td>-0.581105</td>\n",
       "      <td>0.777733</td>\n",
       "    </tr>\n",
       "    <tr>\n",
       "      <th>0</th>\n",
       "      <td>-0.607906</td>\n",
       "      <td>0.777733</td>\n",
       "    </tr>\n",
       "    <tr>\n",
       "      <th>0</th>\n",
       "      <td>-0.538562</td>\n",
       "      <td>0.777733</td>\n",
       "    </tr>\n",
       "  </tbody>\n",
       "</table>\n",
       "<p>1000 rows × 2 columns</p>\n",
       "</div>"
      ],
      "text/plain": [
       "           x         y\n",
       "0  -0.706093  0.777733\n",
       "0  -0.602977  0.777733\n",
       "0  -0.532370  0.777733\n",
       "0  -0.615776  0.777733\n",
       "0   0.616342  0.777733\n",
       "..       ...       ...\n",
       "0   0.592016  0.777733\n",
       "0  -0.556290  0.777733\n",
       "0  -0.581105  0.777733\n",
       "0  -0.607906  0.777733\n",
       "0  -0.538562  0.777733\n",
       "\n",
       "[1000 rows x 2 columns]"
      ]
     },
     "execution_count": 6,
     "metadata": {},
     "output_type": "execute_result"
    }
   ],
   "source": [
    "samples = flow.sample(1000, conditions=data[:1], seed=0)\n",
    "samples"
   ]
  },
  {
   "cell_type": "markdown",
   "metadata": {},
   "source": [
    "Notice how the `y` value is the same for all of these samples? That is because all of these samples were conditioned on the same `y` value!\n",
    "\n",
    "Let's plot the histogram of these samples, along with the posterior for this y value:"
   ]
  },
  {
   "cell_type": "code",
   "execution_count": 7,
   "metadata": {},
   "outputs": [
    {
     "data": {
      "text/plain": [
       "[<matplotlib.lines.Line2D at 0x7fda603ea430>]"
      ]
     },
     "execution_count": 7,
     "metadata": {},
     "output_type": "execute_result"
    },
    {
     "data": {
      "image/png": "[encoded data removed]",
      "text/plain": [
       "<Figure size 432x288 with 1 Axes>"
      ]
     },
     "metadata": {
      "needs_background": "light"
     },
     "output_type": "display_data"
    }
   ],
   "source": [
    "plt.hist(samples.x, bins=20, density=True)\n",
    "\n",
    "x_grid = jnp.linspace(-1, 1, 1000)\n",
    "x_posterior = flow.posterior(data[:1], column=\"x\", grid=x_grid)[0]\n",
    "plt.plot(x_grid, x_posterior)\n"
   ]
  },
  {
   "cell_type": "markdown",
   "metadata": {},
   "source": [
    "You can see they match well. There is a small bump between the two peaks - it's not clear if it's real or not. Depending on the context, you may want to validate or regularize this bump.\n",
    "\n",
    "We can also easily draw multiple samples from multiple conditions.\n",
    "For example, if we take the first 10 rows of `data` and set `nsamples=10`, we will get 100 samples - 10 for each condition in `data`:"
   ]
  },
  {
   "cell_type": "code",
   "execution_count": 8,
   "metadata": {},
   "outputs": [
    {
     "data": {
      "text/html": [
       "<div>\n",
       "<style scoped>\n",
       "    .dataframe tbody tr th:only-of-type {\n",
       "        vertical-align: middle;\n",
       "    }\n",
       "\n",
       "    .dataframe tbody tr th {\n",
       "        vertical-align: top;\n",
       "    }\n",
       "\n",
       "    .dataframe thead th {\n",
       "        text-align: right;\n",
       "    }\n",
       "</style>\n",
       "<table border=\"1\" class=\"dataframe\">\n",
       "  <thead>\n",
       "    <tr style=\"text-align: right;\">\n",
       "      <th></th>\n",
       "      <th>x</th>\n",
       "      <th>y</th>\n",
       "    </tr>\n",
       "  </thead>\n",
       "  <tbody>\n",
       "    <tr>\n",
       "      <th>0</th>\n",
       "      <td>-0.525071</td>\n",
       "      <td>0.777733</td>\n",
       "    </tr>\n",
       "    <tr>\n",
       "      <th>0</th>\n",
       "      <td>0.714533</td>\n",
       "      <td>0.777733</td>\n",
       "    </tr>\n",
       "    <tr>\n",
       "      <th>0</th>\n",
       "      <td>0.540538</td>\n",
       "      <td>0.777733</td>\n",
       "    </tr>\n",
       "    <tr>\n",
       "      <th>0</th>\n",
       "      <td>0.731488</td>\n",
       "      <td>0.777733</td>\n",
       "    </tr>\n",
       "    <tr>\n",
       "      <th>0</th>\n",
       "      <td>-0.708670</td>\n",
       "      <td>0.777733</td>\n",
       "    </tr>\n",
       "    <tr>\n",
       "      <th>...</th>\n",
       "      <td>...</td>\n",
       "      <td>...</td>\n",
       "    </tr>\n",
       "    <tr>\n",
       "      <th>9</th>\n",
       "      <td>0.623353</td>\n",
       "      <td>0.756692</td>\n",
       "    </tr>\n",
       "    <tr>\n",
       "      <th>9</th>\n",
       "      <td>-0.748991</td>\n",
       "      <td>0.756692</td>\n",
       "    </tr>\n",
       "    <tr>\n",
       "      <th>9</th>\n",
       "      <td>-0.640262</td>\n",
       "      <td>0.756692</td>\n",
       "    </tr>\n",
       "    <tr>\n",
       "      <th>9</th>\n",
       "      <td>-0.590335</td>\n",
       "      <td>0.756692</td>\n",
       "    </tr>\n",
       "    <tr>\n",
       "      <th>9</th>\n",
       "      <td>0.538457</td>\n",
       "      <td>0.756692</td>\n",
       "    </tr>\n",
       "  </tbody>\n",
       "</table>\n",
       "<p>100 rows × 2 columns</p>\n",
       "</div>"
      ],
      "text/plain": [
       "           x         y\n",
       "0  -0.525071  0.777733\n",
       "0   0.714533  0.777733\n",
       "0   0.540538  0.777733\n",
       "0   0.731488  0.777733\n",
       "0  -0.708670  0.777733\n",
       "..       ...       ...\n",
       "9   0.623353  0.756692\n",
       "9  -0.748991  0.756692\n",
       "9  -0.640262  0.756692\n",
       "9  -0.590335  0.756692\n",
       "9   0.538457  0.756692\n",
       "\n",
       "[100 rows x 2 columns]"
      ]
     },
     "execution_count": 8,
     "metadata": {},
     "output_type": "execute_result"
    }
   ],
   "source": [
    "flow.sample(nsamples=10, conditions=data[:10])"
   ]
  },
  {
   "cell_type": "code",
   "execution_count": null,
   "metadata": {},
   "outputs": [],
   "source": []
  }
 ],
 "metadata": {
  "interpreter": {
   "hash": "ddb71c8dc1ffef2557a2c9d44be5bf38b52fc98479b572e5007cdf63195ae033"
  },
  "kernelspec": {
   "display_name": "Python 3",
   "language": "python",
   "name": "python3"
  },
  "language_info": {
   "codemirror_mode": {
    "name": "ipython",
    "version": 3
   },
   "file_extension": ".py",
   "mimetype": "text/x-python",
   "name": "python",
   "nbconvert_exporter": "python",
   "pygments_lexer": "ipython3",
   "version": "3.9.12"
  }
 },
 "nbformat": 4,
 "nbformat_minor": 4
}
